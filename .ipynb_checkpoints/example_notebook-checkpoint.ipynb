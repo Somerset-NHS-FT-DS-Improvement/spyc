{
 "cells": [
  {
   "cell_type": "code",
   "execution_count": 1,
   "metadata": {},
   "outputs": [],
   "source": [
    "import numpy as np\n",
    "import pandas as pd"
   ]
  },
  {
   "cell_type": "code",
   "execution_count": 2,
   "metadata": {},
   "outputs": [],
   "source": [
    "# Generate example data\n",
    "date_range = pd.date_range(start='2024-01-01', periods=2_000, freq='d')\n",
    "data = np.random.normal(50, 8, 2000)\n",
    "df = pd.DataFrame(data, index=date_range, columns=['value'])"
   ]
  },
  {
   "cell_type": "code",
   "execution_count": 3,
   "metadata": {},
   "outputs": [
    {
     "data": {
      "text/html": [
       "<div>\n",
       "<style scoped>\n",
       "    .dataframe tbody tr th:only-of-type {\n",
       "        vertical-align: middle;\n",
       "    }\n",
       "\n",
       "    .dataframe tbody tr th {\n",
       "        vertical-align: top;\n",
       "    }\n",
       "\n",
       "    .dataframe thead th {\n",
       "        text-align: right;\n",
       "    }\n",
       "</style>\n",
       "<table border=\"1\" class=\"dataframe\">\n",
       "  <thead>\n",
       "    <tr style=\"text-align: right;\">\n",
       "      <th></th>\n",
       "      <th>value</th>\n",
       "    </tr>\n",
       "  </thead>\n",
       "  <tbody>\n",
       "    <tr>\n",
       "      <th>2024-01-01</th>\n",
       "      <td>55.497380</td>\n",
       "    </tr>\n",
       "    <tr>\n",
       "      <th>2024-01-02</th>\n",
       "      <td>25.308695</td>\n",
       "    </tr>\n",
       "    <tr>\n",
       "      <th>2024-01-03</th>\n",
       "      <td>58.908446</td>\n",
       "    </tr>\n",
       "    <tr>\n",
       "      <th>2024-01-04</th>\n",
       "      <td>43.740365</td>\n",
       "    </tr>\n",
       "    <tr>\n",
       "      <th>2024-01-05</th>\n",
       "      <td>59.042182</td>\n",
       "    </tr>\n",
       "  </tbody>\n",
       "</table>\n",
       "</div>"
      ],
      "text/plain": [
       "                value\n",
       "2024-01-01  55.497380\n",
       "2024-01-02  25.308695\n",
       "2024-01-03  58.908446\n",
       "2024-01-04  43.740365\n",
       "2024-01-05  59.042182"
      ]
     },
     "execution_count": 3,
     "metadata": {},
     "output_type": "execute_result"
    }
   ],
   "source": [
    "df.head()"
   ]
  },
  {
   "cell_type": "code",
   "execution_count": 4,
   "metadata": {},
   "outputs": [],
   "source": [
    "from spyc import SPC, x_chart, mr_chart, plotly_chart"
   ]
  },
  {
   "cell_type": "code",
   "execution_count": 5,
   "metadata": {},
   "outputs": [],
   "source": [
    "spc_example = SPC(data_in=df, \n",
    "                  target_col = 'value',\n",
    "                  # Default values to None (will use all available data for control line calc.)\n",
    "                  fix_control_start_dt=None,\n",
    "                  fix_control_end_dt=None,\n",
    "                  # Data shows repeated patterns every 7 days\n",
    "                  seasonal=7\n",
    "                 )"
   ]
  },
  {
   "cell_type": "code",
   "execution_count": 6,
   "metadata": {},
   "outputs": [],
   "source": [
    "# OPTIONAL. i.e., new beds added and control lines need to be re-calculated\n",
    "# (can be done once, or multiple times)\n",
    "spc_example.add_process_change_date(change_date='2025-01-21',\n",
    "                                    fix_control_start_dt='2025-01-27',\n",
    "                                    fix_control_end_dt='2028-09-27',\n",
    "                                    process_name='New ward')"
   ]
  },
  {
   "cell_type": "code",
   "execution_count": 7,
   "metadata": {
    "scrolled": false
   },
   "outputs": [
    {
     "data": {
      "text/html": [
       "<div>\n",
       "<style scoped>\n",
       "    .dataframe tbody tr th:only-of-type {\n",
       "        vertical-align: middle;\n",
       "    }\n",
       "\n",
       "    .dataframe tbody tr th {\n",
       "        vertical-align: top;\n",
       "    }\n",
       "\n",
       "    .dataframe thead th {\n",
       "        text-align: right;\n",
       "    }\n",
       "</style>\n",
       "<table border=\"1\" class=\"dataframe\">\n",
       "  <thead>\n",
       "    <tr style=\"text-align: right;\">\n",
       "      <th></th>\n",
       "      <th>CL</th>\n",
       "      <th>LCL</th>\n",
       "      <th>UCL</th>\n",
       "      <th>process</th>\n",
       "      <th>period_name</th>\n",
       "      <th>season</th>\n",
       "      <th>Rule 1 violation</th>\n",
       "    </tr>\n",
       "  </thead>\n",
       "  <tbody>\n",
       "    <tr>\n",
       "      <th>2024-01-01</th>\n",
       "      <td>49.298882</td>\n",
       "      <td>25.196673</td>\n",
       "      <td>73.401091</td>\n",
       "      <td>55.497380</td>\n",
       "      <td>NaN</td>\n",
       "      <td>0</td>\n",
       "      <td>0</td>\n",
       "    </tr>\n",
       "    <tr>\n",
       "      <th>2024-01-02</th>\n",
       "      <td>48.187679</td>\n",
       "      <td>20.001857</td>\n",
       "      <td>76.373502</td>\n",
       "      <td>25.308695</td>\n",
       "      <td>NaN</td>\n",
       "      <td>1</td>\n",
       "      <td>0</td>\n",
       "    </tr>\n",
       "    <tr>\n",
       "      <th>2024-01-03</th>\n",
       "      <td>50.475782</td>\n",
       "      <td>28.544718</td>\n",
       "      <td>72.406846</td>\n",
       "      <td>58.908446</td>\n",
       "      <td>NaN</td>\n",
       "      <td>2</td>\n",
       "      <td>0</td>\n",
       "    </tr>\n",
       "    <tr>\n",
       "      <th>2024-01-04</th>\n",
       "      <td>49.291444</td>\n",
       "      <td>24.491161</td>\n",
       "      <td>74.091727</td>\n",
       "      <td>43.740365</td>\n",
       "      <td>NaN</td>\n",
       "      <td>3</td>\n",
       "      <td>0</td>\n",
       "    </tr>\n",
       "    <tr>\n",
       "      <th>2024-01-05</th>\n",
       "      <td>49.265350</td>\n",
       "      <td>24.002118</td>\n",
       "      <td>74.528582</td>\n",
       "      <td>59.042182</td>\n",
       "      <td>NaN</td>\n",
       "      <td>4</td>\n",
       "      <td>0</td>\n",
       "    </tr>\n",
       "  </tbody>\n",
       "</table>\n",
       "</div>"
      ],
      "text/plain": [
       "                   CL        LCL        UCL    process period_name  season  \\\n",
       "2024-01-01  49.298882  25.196673  73.401091  55.497380         NaN       0   \n",
       "2024-01-02  48.187679  20.001857  76.373502  25.308695         NaN       1   \n",
       "2024-01-03  50.475782  28.544718  72.406846  58.908446         NaN       2   \n",
       "2024-01-04  49.291444  24.491161  74.091727  43.740365         NaN       3   \n",
       "2024-01-05  49.265350  24.002118  74.528582  59.042182         NaN       4   \n",
       "\n",
       "            Rule 1 violation  \n",
       "2024-01-01                 0  \n",
       "2024-01-02                 0  \n",
       "2024-01-03                 0  \n",
       "2024-01-04                 0  \n",
       "2024-01-05                 0  "
      ]
     },
     "execution_count": 7,
     "metadata": {},
     "output_type": "execute_result"
    }
   ],
   "source": [
    "x_chart_data = spc_example.calculate_spc(spc_calc_func=x_chart,\n",
    "                          rule_1=True) \n",
    "x_chart_data.head()"
   ]
  },
  {
   "cell_type": "code",
   "execution_count": 11,
   "metadata": {},
   "outputs": [],
   "source": [
    "plotly_chart(x_chart_data)"
   ]
  },
  {
   "cell_type": "code",
   "execution_count": 9,
   "metadata": {
    "scrolled": false
   },
   "outputs": [],
   "source": [
    "# SPC data/chart stored for specific SPC function. The function can be custom/use built in \n",
    "# but requires a dictionary with 'prococes', 'CL', 'LCL', 'UCL' to be returned\n",
    "\n",
    "def quantile_chart_calc(data, target_col, cl_start_dt=None, cl_end_dt=None):\n",
    "    \n",
    "    CL = data[target_col].quantile(0.5)\n",
    "    LCL = data[target_col].quantile(0.01)\n",
    "    UCL = data[target_col].quantile(0.99)\n",
    "    \n",
    "    return {'process': data[target_col], 'CL': CL, 'LCL': LCL, 'UCL': UCL}\n",
    "    \n",
    "# Specific rules can then be defined for each chart type\n",
    "custom_chart_data = spc_example.calculate_spc(spc_calc_func=quantile_chart_calc,\n",
    "                                              rule_1=True) "
   ]
  },
  {
   "cell_type": "code",
   "execution_count": 12,
   "metadata": {},
   "outputs": [],
   "source": [
    "plotly_chart(custom_chart_data)"
   ]
  }
 ],
 "metadata": {
  "kernelspec": {
   "display_name": "Python 3 (ipykernel)",
   "language": "python",
   "name": "python3"
  },
  "language_info": {
   "codemirror_mode": {
    "name": "ipython",
    "version": 3
   },
   "file_extension": ".py",
   "mimetype": "text/x-python",
   "name": "python",
   "nbconvert_exporter": "python",
   "pygments_lexer": "ipython3",
   "version": "3.10.8"
  }
 },
 "nbformat": 4,
 "nbformat_minor": 1
}
